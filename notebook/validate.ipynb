{
 "cells": [
  {
   "cell_type": "code",
   "execution_count": 1,
   "metadata": {},
   "outputs": [],
   "source": [
    "import pandas as pd\n",
    "df =pd.read_csv(\"../artifact/07062023__182658/data_ingestion/dataset/train.csv\")"
   ]
  },
  {
   "cell_type": "code",
   "execution_count": 2,
   "metadata": {},
   "outputs": [
    {
     "data": {
      "text/html": [
       "<div>\n",
       "<style scoped>\n",
       "    .dataframe tbody tr th:only-of-type {\n",
       "        vertical-align: middle;\n",
       "    }\n",
       "\n",
       "    .dataframe tbody tr th {\n",
       "        vertical-align: top;\n",
       "    }\n",
       "\n",
       "    .dataframe thead th {\n",
       "        text-align: right;\n",
       "    }\n",
       "</style>\n",
       "<table border=\"1\" class=\"dataframe\">\n",
       "  <thead>\n",
       "    <tr style=\"text-align: right;\">\n",
       "      <th></th>\n",
       "      <th>class</th>\n",
       "      <th>aa_000</th>\n",
       "      <th>ab_000</th>\n",
       "      <th>ac_000</th>\n",
       "      <th>ad_000</th>\n",
       "      <th>ae_000</th>\n",
       "      <th>af_000</th>\n",
       "      <th>ag_000</th>\n",
       "      <th>ag_001</th>\n",
       "      <th>ag_002</th>\n",
       "      <th>...</th>\n",
       "      <th>ee_002</th>\n",
       "      <th>ee_003</th>\n",
       "      <th>ee_004</th>\n",
       "      <th>ee_005</th>\n",
       "      <th>ee_006</th>\n",
       "      <th>ee_007</th>\n",
       "      <th>ee_008</th>\n",
       "      <th>ee_009</th>\n",
       "      <th>ef_000</th>\n",
       "      <th>eg_000</th>\n",
       "    </tr>\n",
       "  </thead>\n",
       "  <tbody>\n",
       "    <tr>\n",
       "      <th>0</th>\n",
       "      <td>neg</td>\n",
       "      <td>22</td>\n",
       "      <td>2.0</td>\n",
       "      <td>44.0</td>\n",
       "      <td>NaN</td>\n",
       "      <td>0.0</td>\n",
       "      <td>0.0</td>\n",
       "      <td>0.0</td>\n",
       "      <td>0.0</td>\n",
       "      <td>3454.0</td>\n",
       "      <td>...</td>\n",
       "      <td>196.0</td>\n",
       "      <td>34.0</td>\n",
       "      <td>46.0</td>\n",
       "      <td>24.0</td>\n",
       "      <td>10.0</td>\n",
       "      <td>0.0</td>\n",
       "      <td>0.0</td>\n",
       "      <td>0.0</td>\n",
       "      <td>0.0</td>\n",
       "      <td>0.0</td>\n",
       "    </tr>\n",
       "    <tr>\n",
       "      <th>1</th>\n",
       "      <td>neg</td>\n",
       "      <td>10</td>\n",
       "      <td>NaN</td>\n",
       "      <td>0.0</td>\n",
       "      <td>0.0</td>\n",
       "      <td>0.0</td>\n",
       "      <td>0.0</td>\n",
       "      <td>0.0</td>\n",
       "      <td>0.0</td>\n",
       "      <td>0.0</td>\n",
       "      <td>...</td>\n",
       "      <td>36.0</td>\n",
       "      <td>26.0</td>\n",
       "      <td>36.0</td>\n",
       "      <td>46.0</td>\n",
       "      <td>100.0</td>\n",
       "      <td>26.0</td>\n",
       "      <td>0.0</td>\n",
       "      <td>0.0</td>\n",
       "      <td>0.0</td>\n",
       "      <td>0.0</td>\n",
       "    </tr>\n",
       "    <tr>\n",
       "      <th>2</th>\n",
       "      <td>neg</td>\n",
       "      <td>41474</td>\n",
       "      <td>NaN</td>\n",
       "      <td>598.0</td>\n",
       "      <td>NaN</td>\n",
       "      <td>0.0</td>\n",
       "      <td>0.0</td>\n",
       "      <td>0.0</td>\n",
       "      <td>0.0</td>\n",
       "      <td>0.0</td>\n",
       "      <td>...</td>\n",
       "      <td>331610.0</td>\n",
       "      <td>177770.0</td>\n",
       "      <td>348412.0</td>\n",
       "      <td>315844.0</td>\n",
       "      <td>237834.0</td>\n",
       "      <td>148534.0</td>\n",
       "      <td>258180.0</td>\n",
       "      <td>15748.0</td>\n",
       "      <td>0.0</td>\n",
       "      <td>0.0</td>\n",
       "    </tr>\n",
       "    <tr>\n",
       "      <th>3</th>\n",
       "      <td>neg</td>\n",
       "      <td>18928</td>\n",
       "      <td>NaN</td>\n",
       "      <td>1406.0</td>\n",
       "      <td>1406.0</td>\n",
       "      <td>0.0</td>\n",
       "      <td>0.0</td>\n",
       "      <td>0.0</td>\n",
       "      <td>0.0</td>\n",
       "      <td>0.0</td>\n",
       "      <td>...</td>\n",
       "      <td>58134.0</td>\n",
       "      <td>5134.0</td>\n",
       "      <td>1764.0</td>\n",
       "      <td>92.0</td>\n",
       "      <td>14.0</td>\n",
       "      <td>0.0</td>\n",
       "      <td>0.0</td>\n",
       "      <td>0.0</td>\n",
       "      <td>0.0</td>\n",
       "      <td>0.0</td>\n",
       "    </tr>\n",
       "    <tr>\n",
       "      <th>4</th>\n",
       "      <td>neg</td>\n",
       "      <td>26</td>\n",
       "      <td>NaN</td>\n",
       "      <td>20.0</td>\n",
       "      <td>20.0</td>\n",
       "      <td>0.0</td>\n",
       "      <td>0.0</td>\n",
       "      <td>0.0</td>\n",
       "      <td>0.0</td>\n",
       "      <td>0.0</td>\n",
       "      <td>...</td>\n",
       "      <td>508.0</td>\n",
       "      <td>76.0</td>\n",
       "      <td>72.0</td>\n",
       "      <td>0.0</td>\n",
       "      <td>0.0</td>\n",
       "      <td>0.0</td>\n",
       "      <td>0.0</td>\n",
       "      <td>0.0</td>\n",
       "      <td>0.0</td>\n",
       "      <td>0.0</td>\n",
       "    </tr>\n",
       "  </tbody>\n",
       "</table>\n",
       "<p>5 rows × 171 columns</p>\n",
       "</div>"
      ],
      "text/plain": [
       "  class  aa_000  ab_000  ac_000  ad_000  ae_000  af_000  ag_000  ag_001  \\\n",
       "0   neg      22     2.0    44.0     NaN     0.0     0.0     0.0     0.0   \n",
       "1   neg      10     NaN     0.0     0.0     0.0     0.0     0.0     0.0   \n",
       "2   neg   41474     NaN   598.0     NaN     0.0     0.0     0.0     0.0   \n",
       "3   neg   18928     NaN  1406.0  1406.0     0.0     0.0     0.0     0.0   \n",
       "4   neg      26     NaN    20.0    20.0     0.0     0.0     0.0     0.0   \n",
       "\n",
       "   ag_002  ...    ee_002    ee_003    ee_004    ee_005    ee_006    ee_007  \\\n",
       "0  3454.0  ...     196.0      34.0      46.0      24.0      10.0       0.0   \n",
       "1     0.0  ...      36.0      26.0      36.0      46.0     100.0      26.0   \n",
       "2     0.0  ...  331610.0  177770.0  348412.0  315844.0  237834.0  148534.0   \n",
       "3     0.0  ...   58134.0    5134.0    1764.0      92.0      14.0       0.0   \n",
       "4     0.0  ...     508.0      76.0      72.0       0.0       0.0       0.0   \n",
       "\n",
       "     ee_008   ee_009  ef_000  eg_000  \n",
       "0       0.0      0.0     0.0     0.0  \n",
       "1       0.0      0.0     0.0     0.0  \n",
       "2  258180.0  15748.0     0.0     0.0  \n",
       "3       0.0      0.0     0.0     0.0  \n",
       "4       0.0      0.0     0.0     0.0  \n",
       "\n",
       "[5 rows x 171 columns]"
      ]
     },
     "execution_count": 2,
     "metadata": {},
     "output_type": "execute_result"
    }
   ],
   "source": [
    "df.head()"
   ]
  },
  {
   "cell_type": "code",
   "execution_count": 6,
   "metadata": {},
   "outputs": [
    {
     "data": {
      "text/plain": [
       "class     0.000000\n",
       "aa_000    0.000000\n",
       "ab_000    0.772297\n",
       "ac_000    0.059516\n",
       "ad_000    0.256062\n",
       "            ...   \n",
       "ee_007    0.010535\n",
       "ee_008    0.010535\n",
       "ee_009    0.010535\n",
       "ef_000    0.048290\n",
       "eg_000    0.048256\n",
       "Length: 171, dtype: float64"
      ]
     },
     "execution_count": 6,
     "metadata": {},
     "output_type": "execute_result"
    }
   ],
   "source": [
    "df.isnull().sum()/df.shape[0]"
   ]
  },
  {
   "cell_type": "code",
   "execution_count": 14,
   "metadata": {},
   "outputs": [
    {
     "name": "stdout",
     "output_type": "stream",
     "text": [
      "class 0.0\n",
      "aa_000 0.0\n",
      "ab_000 77.22970639032816\n",
      "ac_000 5.951640759930915\n",
      "ad_000 25.606217616580313\n",
      "ae_000 4.431778929188256\n",
      "af_000 4.431778929188256\n",
      "ag_000 1.0535405872193437\n",
      "ag_001 1.0535405872193437\n",
      "ag_002 1.0535405872193437\n",
      "ag_003 1.0535405872193437\n",
      "ag_004 1.0535405872193437\n",
      "ag_005 1.0535405872193437\n",
      "ag_006 1.0535405872193437\n",
      "ag_007 1.0535405872193437\n",
      "ag_008 1.0535405872193437\n",
      "ag_009 1.0535405872193437\n",
      "ah_000 1.0984455958549224\n",
      "ai_000 1.07426597582038\n",
      "aj_000 1.07426597582038\n",
      "ak_000 7.844559585492227\n",
      "al_000 1.0880829015544042\n",
      "am_0 1.07426597582038\n",
      "an_000 1.0880829015544042\n",
      "ao_000 0.9740932642487047\n",
      "ap_000 1.0880829015544042\n",
      "aq_000 0.9740932642487047\n",
      "ar_000 4.825561312607944\n",
      "as_000 1.07426597582038\n",
      "at_000 1.07426597582038\n",
      "au_000 1.07426597582038\n",
      "av_000 4.435233160621762\n",
      "ax_000 4.435233160621762\n",
      "ay_000 1.0535405872193437\n",
      "ay_001 1.0535405872193437\n",
      "ay_002 1.0535405872193437\n",
      "ay_003 1.0535405872193437\n",
      "ay_004 1.0535405872193437\n",
      "ay_005 1.0535405872193437\n",
      "ay_006 1.0535405872193437\n",
      "ay_007 1.0535405872193437\n",
      "ay_008 1.0535405872193437\n",
      "ay_009 1.0535405872193437\n",
      "az_000 1.0535405872193437\n",
      "az_001 1.0535405872193437\n",
      "az_002 1.0535405872193437\n",
      "az_003 1.0535405872193437\n",
      "az_004 1.0535405872193437\n",
      "az_005 1.0535405872193437\n",
      "az_006 1.0535405872193437\n",
      "az_007 1.0535405872193437\n",
      "az_008 1.0535405872193437\n",
      "az_009 1.0535405872193437\n",
      "ba_000 1.07426597582038\n",
      "ba_001 1.07426597582038\n",
      "ba_002 1.07426597582038\n",
      "ba_003 1.07426597582038\n",
      "ba_004 1.07426597582038\n",
      "ba_005 1.07426597582038\n",
      "ba_006 1.07426597582038\n",
      "ba_007 1.07426597582038\n",
      "ba_008 1.07426597582038\n",
      "ba_009 1.07426597582038\n",
      "bb_000 1.0984455958549224\n",
      "bc_000 4.82901554404145\n",
      "bd_000 4.82901554404145\n",
      "be_000 4.438687392055267\n",
      "bf_000 4.431778929188256\n",
      "bg_000 1.0880829015544042\n",
      "bh_000 1.0880829015544042\n",
      "bi_000 0.9740932642487047\n",
      "bj_000 0.9740932642487047\n",
      "bk_000 37.92055267702936\n",
      "bl_000 44.770293609671846\n",
      "bm_000 65.27461139896373\n",
      "bn_000 72.52504317789293\n",
      "bo_000 76.23834196891191\n",
      "bp_000 78.50086355785838\n",
      "bq_000 80.20725388601036\n",
      "br_000 81.07426597582038\n",
      "bs_000 1.1778929188255614\n",
      "bt_000 0.21416234887737476\n",
      "bu_000 1.1433506044905009\n",
      "bv_000 1.1433506044905009\n",
      "bx_000 5.291882556131261\n",
      "by_000 0.7461139896373057\n",
      "bz_000 4.825561312607944\n",
      "ca_000 7.751295336787564\n",
      "cb_000 1.1778929188255614\n",
      "cc_000 5.288428324697755\n",
      "cd_000 1.132987910189983\n",
      "ce_000 4.442141623488774\n",
      "cf_000 25.606217616580313\n",
      "cg_000 25.606217616580313\n",
      "ch_000 25.606217616580313\n",
      "ci_000 0.5595854922279793\n",
      "cj_000 0.5595854922279793\n",
      "ck_000 0.5595854922279793\n",
      "cl_000 16.14853195164076\n",
      "cm_000 16.73229706390328\n",
      "cn_000 1.070811744386874\n",
      "cn_001 1.070811744386874\n",
      "cn_002 1.070811744386874\n",
      "cn_003 1.070811744386874\n",
      "cn_004 1.070811744386874\n",
      "cn_005 1.070811744386874\n",
      "cn_006 1.070811744386874\n",
      "cn_007 1.070811744386874\n",
      "cn_008 1.070811744386874\n",
      "cn_009 1.070811744386874\n",
      "co_000 25.606217616580313\n",
      "cp_000 4.82901554404145\n",
      "cq_000 1.1433506044905009\n",
      "cr_000 77.22970639032816\n",
      "cs_000 1.0500863557858378\n",
      "cs_001 1.0500863557858378\n",
      "cs_002 1.0500863557858378\n",
      "cs_003 1.0500863557858378\n",
      "cs_004 1.0500863557858378\n",
      "cs_005 1.0500863557858378\n",
      "cs_006 1.0500863557858378\n",
      "cs_007 1.0500863557858378\n",
      "cs_008 1.0500863557858378\n",
      "cs_009 1.0500863557858378\n",
      "ct_000 23.76511226252159\n",
      "cu_000 23.76511226252159\n",
      "cv_000 23.76511226252159\n",
      "cx_000 23.76511226252159\n",
      "cy_000 23.76511226252159\n",
      "cz_000 23.76511226252159\n",
      "da_000 23.76511226252159\n",
      "db_000 23.76511226252159\n",
      "dc_000 23.76511226252159\n",
      "dd_000 4.442141623488774\n",
      "de_000 4.82901554404145\n",
      "df_000 7.115716753022452\n",
      "dg_000 7.119170984455958\n",
      "dh_000 7.119170984455958\n",
      "di_000 7.112262521588947\n",
      "dj_000 7.115716753022452\n",
      "dk_000 7.115716753022452\n",
      "dl_000 7.119170984455958\n",
      "dm_000 7.122625215889465\n",
      "dn_000 1.1433506044905009\n",
      "do_000 4.825561312607944\n",
      "dp_000 4.832469775474957\n",
      "dq_000 4.832469775474957\n",
      "dr_000 4.82901554404145\n",
      "ds_000 4.832469775474957\n",
      "dt_000 4.832469775474957\n",
      "du_000 4.82901554404145\n",
      "dv_000 4.82901554404145\n",
      "dx_000 4.825561312607944\n",
      "dy_000 4.82901554404145\n",
      "dz_000 4.825561312607944\n",
      "ea_000 4.825561312607944\n",
      "eb_000 7.115716753022452\n",
      "ec_00 17.385146804835923\n",
      "ed_000 16.14853195164076\n",
      "ee_000 1.0535405872193437\n",
      "ee_001 1.0535405872193437\n",
      "ee_002 1.0535405872193437\n",
      "ee_003 1.0535405872193437\n",
      "ee_004 1.0535405872193437\n",
      "ee_005 1.0535405872193437\n",
      "ee_006 1.0535405872193437\n",
      "ee_007 1.0535405872193437\n",
      "ee_008 1.0535405872193437\n",
      "ee_009 1.0535405872193437\n",
      "ef_000 4.82901554404145\n",
      "eg_000 4.825561312607944\n"
     ]
    }
   ],
   "source": [
    "drop_col_name =[]\n",
    "for col_name,missing_percent in zip((df.isnull().sum()/df.shape[0]).index,(df.isnull().sum()/df.shape[0]).values):\n",
    "    print(col_name,missing_percent*100)\n",
    "    if missing_percent>.3:\n",
    "        drop_col_name.append(col_name)\n",
    "    "
   ]
  },
  {
   "cell_type": "code",
   "execution_count": 15,
   "metadata": {},
   "outputs": [
    {
     "data": {
      "text/plain": [
       "10"
      ]
     },
     "execution_count": 15,
     "metadata": {},
     "output_type": "execute_result"
    }
   ],
   "source": [
    "drop_col_name.__len__()"
   ]
  },
  {
   "cell_type": "code",
   "execution_count": 7,
   "metadata": {},
   "outputs": [
    {
     "data": {
      "text/plain": [
       "class     0.000000\n",
       "aa_000    0.000000\n",
       "ab_000    0.772297\n",
       "ac_000    0.059516\n",
       "ad_000    0.256062\n",
       "            ...   \n",
       "ee_007    0.010535\n",
       "ee_008    0.010535\n",
       "ee_009    0.010535\n",
       "ef_000    0.048290\n",
       "eg_000    0.048256\n",
       "Length: 171, dtype: float64"
      ]
     },
     "execution_count": 7,
     "metadata": {},
     "output_type": "execute_result"
    }
   ],
   "source": [
    "null_col=df.isna().sum()/df.shape[0]\n",
    "null_col"
   ]
  },
  {
   "cell_type": "code",
   "execution_count": 8,
   "metadata": {},
   "outputs": [
    {
     "data": {
      "text/plain": [
       "pandas.core.indexes.base.Index"
      ]
     },
     "execution_count": 8,
     "metadata": {},
     "output_type": "execute_result"
    }
   ],
   "source": [
    "x=null_col[null_col>.2].index\n",
    "type(x)"
   ]
  },
  {
   "cell_type": "code",
   "execution_count": 11,
   "metadata": {},
   "outputs": [
    {
     "data": {
      "text/plain": [
       "(28950, 147)"
      ]
     },
     "execution_count": 11,
     "metadata": {},
     "output_type": "execute_result"
    }
   ],
   "source": [
    "df =df.drop((x),axis=1)\n",
    "df.shape"
   ]
  },
  {
   "cell_type": "code",
   "execution_count": 5,
   "metadata": {},
   "outputs": [],
   "source": [
    "df2  =pd.read_csv(\"../aps_failure_training_set1.csv\",na_values=[\"na\"])"
   ]
  },
  {
   "cell_type": "code",
   "execution_count": 10,
   "metadata": {},
   "outputs": [
    {
     "data": {
      "text/plain": [
       "((28950, 171), (36188, 171))"
      ]
     },
     "execution_count": 10,
     "metadata": {},
     "output_type": "execute_result"
    }
   ],
   "source": [
    "df.shape,df2.shape"
   ]
  },
  {
   "cell_type": "code",
   "execution_count": 12,
   "metadata": {},
   "outputs": [
    {
     "data": {
      "text/plain": [
       "class     0.000000\n",
       "aa_000    0.000000\n",
       "ab_000    0.770863\n",
       "ac_000    0.059163\n",
       "ad_000    0.254228\n",
       "            ...   \n",
       "ee_007    0.010473\n",
       "ee_008    0.010473\n",
       "ee_009    0.010473\n",
       "ef_000    0.047806\n",
       "eg_000    0.047778\n",
       "Length: 171, dtype: float64"
      ]
     },
     "execution_count": 12,
     "metadata": {},
     "output_type": "execute_result"
    }
   ],
   "source": [
    "null_col1=df2.isna().sum()/df2.shape[0]\n",
    "null_col1"
   ]
  },
  {
   "cell_type": "code",
   "execution_count": 16,
   "metadata": {},
   "outputs": [
    {
     "data": {
      "text/plain": [
       "(171,)"
      ]
     },
     "execution_count": 16,
     "metadata": {},
     "output_type": "execute_result"
    }
   ],
   "source": [
    "null_col1.shape"
   ]
  },
  {
   "cell_type": "code",
   "execution_count": 14,
   "metadata": {},
   "outputs": [],
   "source": [
    "x1=null_col1[null_col1>.2].index"
   ]
  },
  {
   "cell_type": "code",
   "execution_count": 19,
   "metadata": {},
   "outputs": [
    {
     "data": {
      "text/plain": [
       "(36188, 147)"
      ]
     },
     "execution_count": 19,
     "metadata": {},
     "output_type": "execute_result"
    }
   ],
   "source": [
    "df2 =df2.drop(x1,axis=1)\n",
    "df2.shape"
   ]
  },
  {
   "cell_type": "code",
   "execution_count": 20,
   "metadata": {},
   "outputs": [],
   "source": [
    "base_columns=df2.columns\n",
    "current_columns=df.columns\n",
    "missing_col=[col for col in base_columns if col not in current_columns]"
   ]
  },
  {
   "cell_type": "code",
   "execution_count": 21,
   "metadata": {},
   "outputs": [
    {
     "data": {
      "text/plain": [
       "[]"
      ]
     },
     "execution_count": 21,
     "metadata": {},
     "output_type": "execute_result"
    }
   ],
   "source": [
    "missing_col"
   ]
  },
  {
   "cell_type": "code",
   "execution_count": 23,
   "metadata": {},
   "outputs": [
    {
     "data": {
      "text/plain": [
       "147"
      ]
     },
     "execution_count": 23,
     "metadata": {},
     "output_type": "execute_result"
    }
   ],
   "source": [
    "len([col for col in base_columns if col  in current_columns])"
   ]
  },
  {
   "cell_type": "code",
   "execution_count": null,
   "metadata": {},
   "outputs": [],
   "source": []
  }
 ],
 "metadata": {
  "kernelspec": {
   "display_name": "base",
   "language": "python",
   "name": "python3"
  },
  "language_info": {
   "codemirror_mode": {
    "name": "ipython",
    "version": 3
   },
   "file_extension": ".py",
   "mimetype": "text/x-python",
   "name": "python",
   "nbconvert_exporter": "python",
   "pygments_lexer": "ipython3",
   "version": "3.10.9"
  },
  "orig_nbformat": 4
 },
 "nbformat": 4,
 "nbformat_minor": 2
}
